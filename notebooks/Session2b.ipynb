{
 "cells": [
  {
   "cell_type": "markdown",
   "metadata": {},
   "source": [
    "# An Introduction to Machine Learning\n",
    "## Session 2b: Regression and Practical Considerations in ML\n",
    "\n",
    "Welcome to Session 2b! We’ll explore a new type of machine learning model: regression. While classification models predict categories, regression models predict continuous values, making them useful in situations like forecasting sales, predicting scores, or analysing trends.\n",
    "\n",
    "We’ll focus on Linear Regression, a foundational model in machine learning. By the end of this session, you’ll understand how Linear Regression works, how to evaluate a regression model, and how to interpret its predictions."
   ]
  },
  {
   "cell_type": "markdown",
   "metadata": {},
   "source": [
    "### 1. Importing libraries and data-processing"
   ]
  },
  {
   "cell_type": "code",
   "execution_count": null,
   "metadata": {
    "vscode": {
     "languageId": "plaintext"
    }
   },
   "outputs": [],
   "source": [
    "# Run this cell to import necessary libraries\n",
    "import pandas as pd\n",
    "import numpy as np\n",
    "import matplotlib.pyplot as plt\n",
    "import seaborn as sns\n",
    "from sklearn.model_selection import train_test_split\n",
    "from sklearn.linear_model import LinearRegression\n",
    "from sklearn.metrics import mean_squared_error, mean_absolute_error, r2_score"
   ]
  },
  {
   "cell_type": "code",
   "execution_count": null,
   "metadata": {
    "vscode": {
     "languageId": "plaintext"
    }
   },
   "outputs": [],
   "source": [
    "# Load both datasets\n",
    "white_wine = pd.read_csv(\"../data/winequality-white.csv\")\n",
    "red_wine = pd.read_csv(\"../data/winequality-red.csv\")\n",
    "\n",
    "# Display the first few rows of each to understand structure\n",
    "white_wine.head(), red_wine.head()"
   ]
  },
  {
   "cell_type": "code",
   "execution_count": null,
   "metadata": {
    "vscode": {
     "languageId": "plaintext"
    }
   },
   "outputs": [],
   "source": [
    "# Display info for both datasets\n",
    "print(\"White Wine Dataset Info:\")\n",
    "white_wine.info()\n",
    "print(\"\\nRed Wine Dataset Info:\")\n",
    "red_wine.info()\n",
    "# Check for missing values\n",
    "wine_data.isnull().sum()"
   ]
  },
  {
   "cell_type": "code",
   "execution_count": null,
   "metadata": {
    "vscode": {
     "languageId": "plaintext"
    }
   },
   "outputs": [],
   "source": [
    "# Define features and target variable\n",
    "features = ['alcohol', 'sulphates', 'citric acid', 'density', 'pH']\n",
    "X_white = white_wine[features]\n",
    "y_white = white_wine['quality']\n",
    "X_red = red_wine[features]\n",
    "y_red = red_wine['quality']"
   ]
  },
  {
   "cell_type": "code",
   "execution_count": null,
   "metadata": {
    "vscode": {
     "languageId": "plaintext"
    }
   },
   "outputs": [],
   "source": [
    "# EXERCISE: Split the white wine dataset into training and testing sets.\n",
    "# Hint: Use train_test_split with test_size=0.2 and random_state=42 for consistency.\n",
    "\n",
    "X_train_white, X_test_white, y_train_white, y_test_white = train_test_split(____, ____, test_size=____, random_state=____)"
   ]
  },
  {
   "cell_type": "markdown",
   "metadata": {},
   "source": [
    "### 2. Linear Regression Modelling"
   ]
  },
  {
   "cell_type": "code",
   "execution_count": null,
   "metadata": {
    "vscode": {
     "languageId": "plaintext"
    }
   },
   "outputs": [],
   "source": [
    "# Initialise the Linear Regression model\n",
    "linear_reg = LinearRegression()"
   ]
  },
  {
   "cell_type": "code",
   "execution_count": null,
   "metadata": {
    "vscode": {
     "languageId": "plaintext"
    }
   },
   "outputs": [],
   "source": [
    "# EXERCISE: Train the Linear Regression model on X_train and y_train.\n",
    "\n",
    "linear_reg.fit(____, ____)"
   ]
  },
  {
   "cell_type": "code",
   "execution_count": null,
   "metadata": {
    "vscode": {
     "languageId": "plaintext"
    }
   },
   "outputs": [],
   "source": [
    "# EXERCISE: Predict the quality scores on X_test using the trained model.\n",
    "\n",
    "y_pred = linear_reg.predict(____)"
   ]
  },
  {
   "cell_type": "code",
   "execution_count": null,
   "metadata": {
    "vscode": {
     "languageId": "plaintext"
    }
   },
   "outputs": [],
   "source": [
    "# Calculate Mean Squared Error, Mean Absolute Error, and R-squared\n",
    "mse = mean_squared_error(y_test, y_pred)\n",
    "mae = mean_absolute_error(y_test, y_pred)\n",
    "r2 = r2_score(y_test, y_pred)\n",
    "\n",
    "print(f\"Mean Squared Error: {mse}\")\n",
    "print(f\"Mean Absolute Error: {mae}\")\n",
    "print(f\"R-squared: {r2}\")"
   ]
  },
  {
   "cell_type": "markdown",
   "metadata": {},
   "source": [
    "REFLECTION:\n",
    "1. Based on the MSE, MAE, and R² values, what can you conclude about the model's accuracy?\n",
    "2. Which metric do you think best describes the model's performance?"
   ]
  },
  {
   "cell_type": "markdown",
   "metadata": {},
   "source": [
    "### 3. Interpreting actual vs predicted values."
   ]
  },
  {
   "cell_type": "code",
   "execution_count": null,
   "metadata": {
    "vscode": {
     "languageId": "plaintext"
    }
   },
   "outputs": [],
   "source": [
    "# Plot predictions vs. actual values\n",
    "plt.figure(figsize=(8, 6))\n",
    "plt.scatter(y_test, y_pred, alpha=0.5)\n",
    "plt.plot([y_test.min(), y_test.max()], [y_test.min(), y_test.max()], 'r--')  # Reference line\n",
    "plt.xlabel('Actual Quality')\n",
    "plt.ylabel('Predicted Quality')\n",
    "plt.title('Predicted vs. Actual Quality Scores')\n",
    "plt.show()"
   ]
  },
  {
   "cell_type": "code",
   "execution_count": null,
   "metadata": {
    "vscode": {
     "languageId": "plaintext"
    }
   },
   "outputs": [],
   "source": [
    "# EXERCISE: Print the model coefficients and intercept.\n",
    "\n",
    "print(\"Model Coefficients:\", linear_reg.coef_)\n",
    "print(\"Intercept:\", linear_reg.intercept_)"
   ]
  },
  {
   "cell_type": "markdown",
   "metadata": {},
   "source": [
    "REFLECTION:\n",
    "1. Which features have the highest positive or negative coefficients?\n",
    "2. Do these coefficients align with what you would expect based on the data?"
   ]
  },
  {
   "cell_type": "markdown",
   "metadata": {},
   "source": [
    "### 4. Running this on the red wine data."
   ]
  },
  {
   "cell_type": "code",
   "execution_count": null,
   "metadata": {
    "vscode": {
     "languageId": "plaintext"
    }
   },
   "outputs": [],
   "source": [
    "# EXERCISE: Predict the quality of red wine using the model trained on white wine.\n",
    "\n",
    "y_pred_red = linear_reg.predict(____)"
   ]
  },
  {
   "cell_type": "code",
   "execution_count": null,
   "metadata": {
    "vscode": {
     "languageId": "plaintext"
    }
   },
   "outputs": [],
   "source": [
    "# Calculate evaluation metrics for red wine predictions\n",
    "mse_red = mean_squared_error(y_red, y_pred_red)\n",
    "mae_red = mean_absolute_error(y_red, y_pred_red)\n",
    "r2_red = r2_score(y_red, y_pred_red)\n",
    "\n",
    "print(\"Model Performance on Red Wine Data:\")\n",
    "print(f\"Mean Squared Error: {mse_red}\")\n",
    "print(f\"Mean Absolute Error: {mae_red}\")\n",
    "print(f\"R-squared: {r2_red}\")"
   ]
  },
  {
   "cell_type": "code",
   "execution_count": null,
   "metadata": {
    "vscode": {
     "languageId": "plaintext"
    }
   },
   "outputs": [],
   "source": [
    "# Create a performance comparison table\n",
    "comparison = pd.DataFrame({\n",
    "    \"Dataset\": [\"White Wine Test Set\", \"Red Wine (New Data)\"],\n",
    "    \"Mean Squared Error\": [mse_white, mse_red],\n",
    "    \"Mean Absolute Error\": [mae_white, mae_red],\n",
    "    \"R-squared\": [r2_white, r2_red]\n",
    "})\n",
    "\n",
    "comparison"
   ]
  },
  {
   "cell_type": "markdown",
   "metadata": {},
   "source": [
    "REFLECTION:\n",
    "1. How does the model's performance change when applied to red wine data?\n",
    "2. Why do you think the model performed differently on the red wine dataset?\n",
    "3. What does this tell you about generalising models across similar datasets?"
   ]
  }
 ],
 "metadata": {
  "language_info": {
   "name": "python"
  }
 },
 "nbformat": 4,
 "nbformat_minor": 2
}
