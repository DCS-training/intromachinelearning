{
 "cells": [
  {
   "cell_type": "markdown",
   "metadata": {},
   "source": [
    "# An Introduction to Machine Learning\n",
    "## Session 1a: Introduction to Machine Learning and Data Exploration\n",
    "\n",
    "Welcome to Session 1a of our Introduction to Machine Learning course! In this session, we’ll begin by exploring what machine learning is and how it can help us make predictions and uncover insights from data. Machine learning is all about building models that learn from data, helping us answer questions like “What factors impact wine quality?” or “Which characteristics are most common among people who survived the Titanic sinking?”\n",
    "\n",
    "We’ll be working with the Titanic dataset, which provides information on passengers, including details like age, class, and whether they survived the sinking. Our aim is to explore this data and understand the factors that might influence survival—this process, called Exploratory Data Analysis (EDA), is key to understanding what information is useful in our machine learning models.\n",
    "\n",
    "By the end of this part of the session, you’ll have a better understanding of what machine learning can do, and you’ll be equipped to start thinking about how to build and evaluate models."
   ]
  },
  {
   "cell_type": "markdown",
   "metadata": {},
   "source": [
    "### 1. Importing relevant packages and data."
   ]
  },
  {
   "cell_type": "code",
   "execution_count": null,
   "metadata": {},
   "outputs": [],
   "source": [
    "# Basic imports for data handling and visualisation\n",
    "import pandas as pd\n",
    "import numpy as np\n",
    "import matplotlib.pyplot as plt\n",
    "import seaborn as sns"
   ]
  },
  {
   "cell_type": "code",
   "execution_count": null,
   "metadata": {},
   "outputs": [],
   "source": [
    "# Load the Titanic dataset\n",
    "titanic_train = pd.read_csv(\"../data/titanic_train.csv\")"
   ]
  },
  {
   "cell_type": "markdown",
   "metadata": {},
   "source": [
    "### 2. Exploratory Data Analysis (EDA)"
   ]
  },
  {
   "cell_type": "code",
   "execution_count": null,
   "metadata": {},
   "outputs": [],
   "source": [
    "# Display the first few rows\n",
    "titanic_train.head()"
   ]
  },
  {
   "cell_type": "code",
   "execution_count": null,
   "metadata": {},
   "outputs": [],
   "source": [
    "# Check dataset structure\n",
    "titanic_train.info()"
   ]
  },
  {
   "cell_type": "code",
   "execution_count": null,
   "metadata": {},
   "outputs": [],
   "source": [
    "# Summary statistics\n",
    "titanic_train.describe()"
   ]
  },
  {
   "cell_type": "markdown",
   "metadata": {},
   "source": [
    "It is always important to check for missing data points within a data set -- this is not exclusive to machine learning but all data analysis! Have a go at understanding the missingness below."
   ]
  },
  {
   "cell_type": "code",
   "execution_count": null,
   "metadata": {},
   "outputs": [],
   "source": [
    "# EXERCISE: Check for missing values in each column.\n",
    "# Hint: Use .isnull().sum() to get the count of missing values."
   ]
  },
  {
   "cell_type": "code",
   "execution_count": null,
   "metadata": {},
   "outputs": [],
   "source": [
    "# Survival rate distribution\n",
    "plt.figure(figsize=(6, 4))\n",
    "sns.countplot(x='Survived', data=titanic_train)\n",
    "plt.title('Distribution of Survival')\n",
    "plt.xlabel('Survived (0 = No, 1 = Yes)')\n",
    "plt.ylabel('Count')\n",
    "plt.show()"
   ]
  },
  {
   "cell_type": "markdown",
   "metadata": {},
   "source": [
    "We may be interested on understanding how other factors such as passenger class and sex related to survival. try to visualise each of these."
   ]
  },
  {
   "cell_type": "code",
   "execution_count": null,
   "metadata": {},
   "outputs": [],
   "source": [
    "# EXERCISE: Plot survival by passenger class using sns.countplot with hue='Survived'."
   ]
  },
  {
   "cell_type": "code",
   "execution_count": null,
   "metadata": {},
   "outputs": [],
   "source": [
    "# EXERCISE: Plot survival by sex to see how it affects survival rates."
   ]
  },
  {
   "cell_type": "markdown",
   "metadata": {},
   "source": [
    "Based on these visualisations, we can now start to hypothesise which features seem important for predicting survival."
   ]
  },
  {
   "cell_type": "markdown",
   "metadata": {},
   "source": [
    "EXERCISE: In this cell, write down the features you think are important for predicting survival, and explain why you chose each one.\n",
    "\n",
    "- Insert features here."
   ]
  }
 ],
 "metadata": {
  "kernelspec": {
   "display_name": "mypython",
   "language": "python",
   "name": "python3"
  },
  "language_info": {
   "codemirror_mode": {
    "name": "ipython",
    "version": 3
   },
   "file_extension": ".py",
   "mimetype": "text/x-python",
   "name": "python",
   "nbconvert_exporter": "python",
   "pygments_lexer": "ipython3",
   "version": "3.9.15"
  }
 },
 "nbformat": 4,
 "nbformat_minor": 2
}
