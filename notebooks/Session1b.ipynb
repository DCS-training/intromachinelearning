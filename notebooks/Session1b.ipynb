{
 "cells": [
  {
   "cell_type": "markdown",
   "metadata": {},
   "source": [
    "# An Introduction to Machine Learning\n",
    "## Session 1b: Classification Basics and Logistic Regression\n",
    "\n",
    "Welcome to Session 1b! We’ll delve deeper into machine learning by exploring classification models. Classification models help us predict categorical outcomes, like whether a passenger on the Titanic survived or not.\n",
    "\n",
    "We’ll introduce Logistic Regression, one of the most straightforward classification models, and use it to make predictions based on features in the Titanic dataset. You’ll also learn about how to evaluate classification models using metrics like accuracy, precision, and recall. By the end of this session, you’ll have a solid foundation in training and evaluating a basic classification model."
   ]
  },
  {
   "cell_type": "markdown",
   "metadata": {},
   "source": [
    "### 1. Importing packages and pre-processing for classification data."
   ]
  },
  {
   "cell_type": "code",
   "execution_count": null,
   "metadata": {},
   "outputs": [],
   "source": [
    "# Run this cell to import libraries\n",
    "import pandas as pd\n",
    "import numpy as np\n",
    "import matplotlib.pyplot as plt\n",
    "import seaborn as sns\n",
    "from sklearn.model_selection import train_test_split\n",
    "from sklearn.linear_model import LogisticRegression\n",
    "from sklearn.metrics import accuracy_score, precision_score, recall_score, confusion_matrix, ConfusionMatrixDisplay"
   ]
  },
  {
   "cell_type": "code",
   "execution_count": null,
   "metadata": {},
   "outputs": [],
   "source": [
    "# Load the Titanic dataset and display the first few rows\n",
    "titanic_data = pd.read_csv(\"../data/titanic_train.csv\")\n",
    "titanic_data.head()"
   ]
  },
  {
   "cell_type": "code",
   "execution_count": null,
   "metadata": {},
   "outputs": [],
   "source": [
    "# EXERCISE: Fill missing values for 'Age' with the median and 'Embarked' with the mode.\n",
    "# Hint: Use .fillna() method for both columns.\n",
    "\n",
    "titanic_data['Age'].fillna(____, inplace=True)  # Replace ____ with appropriate value\n",
    "titanic_data['Embarked'].fillna(____, inplace=True)  # Replace ____ with appropriate value"
   ]
  },
  {
   "cell_type": "code",
   "execution_count": null,
   "metadata": {},
   "outputs": [],
   "source": [
    "# Convert 'Sex' to numerical values and 'Embarked' with one-hot encoding\n",
    "titanic_data['Sex'] = titanic_data['Sex'].map({'male': 0, 'female': 1})\n",
    "titanic_data = pd.get_dummies(titanic_data, columns=['Embarked'], drop_first=True)"
   ]
  },
  {
   "cell_type": "code",
   "execution_count": null,
   "metadata": {},
   "outputs": [],
   "source": [
    "# Define features and target\n",
    "X = titanic_data[['Pclass', 'Sex', 'Age', 'SibSp', 'Parch', 'Fare', 'Embarked_Q', 'Embarked_S']]\n",
    "y = titanic_data['Survived']"
   ]
  },
  {
   "cell_type": "code",
   "execution_count": null,
   "metadata": {},
   "outputs": [],
   "source": [
    "# EXERCISE: Split the dataset into training (80%) and testing (20%) sets.\n",
    "# Use train_test_split function with test_size=0.2 and random_state=42.\n",
    "X_train, X_test, y_train, y_test = train_test_split(____, ____, test_size=____, random_state=____)"
   ]
  },
  {
   "cell_type": "markdown",
   "metadata": {},
   "source": [
    "### 2. Logistic regression classifier"
   ]
  },
  {
   "cell_type": "code",
   "execution_count": null,
   "metadata": {},
   "outputs": [],
   "source": [
    "# Initialise the Logistic Regression model\n",
    "log_reg = LogisticRegression(max_iter=1000)"
   ]
  },
  {
   "cell_type": "code",
   "execution_count": null,
   "metadata": {},
   "outputs": [],
   "source": [
    "# EXERCISE: Train the Logistic Regression model on the training data.\n",
    "# Hint: Use .fit() method with X_train and y_train.\n",
    "\n",
    "log_reg.fit(____, ____)"
   ]
  },
  {
   "cell_type": "code",
   "execution_count": null,
   "metadata": {},
   "outputs": [],
   "source": [
    "# EXERCISE: Predict the survival on the test data using the trained model.\n",
    "# Hint: Use .predict() method with X_test.\n",
    "\n",
    "y_pred = log_reg.predict(____)"
   ]
  },
  {
   "cell_type": "code",
   "execution_count": null,
   "metadata": {},
   "outputs": [],
   "source": [
    "# Calculate accuracy, precision, and recall\n",
    "accuracy = accuracy_score(y_test, y_pred)\n",
    "precision = precision_score(y_test, y_pred)\n",
    "recall = recall_score(y_test, y_pred)\n",
    "\n",
    "print(f\"Accuracy: {accuracy}\")\n",
    "print(f\"Precision: {precision}\")\n",
    "print(f\"Recall: {recall}\")"
   ]
  },
  {
   "cell_type": "code",
   "execution_count": null,
   "metadata": {},
   "outputs": [],
   "source": [
    "# EXERCISE: Plot the confusion matrix.\n",
    "# Hint: Use ConfusionMatrixDisplay with confusion_matrix(y_test, y_pred).\n",
    "\n",
    "cm = confusion_matrix(____, ____)\n",
    "ConfusionMatrixDisplay(confusion_matrix=cm, display_labels=['Did Not Survive', 'Survived']).plot(cmap='Blues')\n",
    "plt.show()"
   ]
  },
  {
   "cell_type": "markdown",
   "metadata": {},
   "source": [
    "### 3. Thinking about what we've seen\n",
    "\n",
    "In this cell, write down:\n",
    "\n",
    "1. Which metric (accuracy, precision, or recall) do you think is most important in predicting survival, and why?\n",
    "2. What could you do to improve the model’s performance? Think of any additional features you might include or methods you might try."
   ]
  }
 ],
 "metadata": {
  "kernelspec": {
   "display_name": "mypython",
   "language": "python",
   "name": "python3"
  },
  "language_info": {
   "name": "python",
   "version": "3.9.15"
  }
 },
 "nbformat": 4,
 "nbformat_minor": 2
}
